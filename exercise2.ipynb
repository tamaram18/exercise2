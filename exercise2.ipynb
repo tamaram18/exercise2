{
 "cells": [
  {
   "cell_type": "code",
   "execution_count": 12,
   "metadata": {},
   "outputs": [
    {
     "name": "stdout",
     "output_type": "stream",
     "text": [
      "Number of unmapped reads: 17765\n",
      "Total number of reads: 2921629\n",
      "Number of reads with mapping quality 0: 126628\n",
      "Average mapping quality: 55.91379158681681\n",
      "Average mapping quality without reads with 0 mapp quality: 58.446975510921106\n"
     ]
    }
   ],
   "source": [
    "import pysam\n",
    "alignmentFile = pysam.AlignmentFile(\"/sbgenomics/project-files/merged-tumor.bam\", \"rb\")\n",
    "\n",
    "unmapped_reads = 0\n",
    "total_reads = 0\n",
    "mapping_quality_zero_reads = 0\n",
    "mapping_quality_sum = 0\n",
    "\n",
    "for read in alignmentFile:\n",
    "    total_reads = total_reads + 1\n",
    "    if (read.is_unmapped):\n",
    "        unmapped_reads = unmapped_reads + 1\n",
    "        \n",
    "    mapping_quality_sum = mapping_quality_sum + read.mapping_quality\n",
    "    if (read.mapping_quality == 0):\n",
    "        mapping_quality_zero_reads = mapping_quality_zero_reads + 1\n",
    "    \n",
    "print('Number of unmapped reads: ' + str(unmapped_reads))\n",
    "print('Total number of reads: ' + str(total_reads))\n",
    "print('Number of reads with mapping quality 0: ' + str(mapping_quality_zero_reads))\n",
    "print('Average mapping quality: ' + str(mapping_quality_sum / total_reads))\n",
    "print('Average mapping quality without reads with 0 mapp quality: ' + str(mapping_quality_sum / (total_reads - mapping_quality_zero_reads)))"
   ]
  },
  {
   "cell_type": "code",
   "execution_count": null,
   "metadata": {},
   "outputs": [],
   "source": []
  },
  {
   "cell_type": "code",
   "execution_count": null,
   "metadata": {},
   "outputs": [],
   "source": []
  }
 ],
 "metadata": {
  "kernelspec": {
   "display_name": "Python 3",
   "language": "python",
   "name": "python3"
  },
  "language_info": {
   "codemirror_mode": {
    "name": "ipython",
    "version": 3
   },
   "file_extension": ".py",
   "mimetype": "text/x-python",
   "name": "python",
   "nbconvert_exporter": "python",
   "pygments_lexer": "ipython3",
   "version": "3.6.3"
  }
 },
 "nbformat": 4,
 "nbformat_minor": 2
}
